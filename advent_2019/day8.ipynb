{
 "cells": [
  {
   "cell_type": "code",
   "execution_count": 6,
   "metadata": {},
   "outputs": [],
   "source": [
    "from collections import Counter\n",
    "import numpy as np\n",
    "from matplotlib import pyplot as plt"
   ]
  },
  {
   "cell_type": "code",
   "execution_count": 10,
   "metadata": {},
   "outputs": [],
   "source": [
    "with open('input8.txt') as f:\n",
    "    image = list(map(int, list(f.readline().strip())))\n",
    "    w,h = 25,6\n",
    "    size= w*h\n",
    "    n_= int(len(image) / size)\n",
    "    layers = np.empty((n_,h,w)) \n",
    "\n",
    "    for layer in range(n_):\n",
    "        begin = size*layer\n",
    "        for i in range(h):\n",
    "            for j in range(w):\n",
    "                idx = begin +w*i + j\n",
    "                layers[layer, i, j] = image[idx]"
   ]
  },
  {
   "cell_type": "code",
   "execution_count": 11,
   "metadata": {},
   "outputs": [
    {
     "name": "stdout",
     "output_type": "stream",
     "text": [
      "1360\n"
     ]
    }
   ],
   "source": [
    "digits = [Counter(layer.flatten().tolist()) for layer in layers]\n",
    "min_0 = min([x[0] for x in digits])\n",
    "\n",
    "for layer in digits:\n",
    "    if layer[0] == min_0:\n",
    "        print(layer[1]*layer[2])"
   ]
  },
  {
   "cell_type": "code",
   "execution_count": 12,
   "metadata": {},
   "outputs": [
    {
     "data": {
      "text/plain": [
       "<matplotlib.image.AxesImage at 0x112891c50>"
      ]
     },
     "execution_count": 12,
     "metadata": {},
     "output_type": "execute_result"
    },
    {
     "data": {
      "image/png": "[encoded data removed]",
      "text/plain": [
       "<Figure size 432x288 with 1 Axes>"
      ]
     },
     "metadata": {
      "needs_background": "light"
     },
     "output_type": "display_data"
    }
   ],
   "source": [
    "n_,h,w = layers.shape\n",
    "final_image = np.empty((h,w))\n",
    "for i in range(h):\n",
    "    for j in range(w):\n",
    "        for d in range(n_):\n",
    "            if layers[d,i,j] != 2:\n",
    "                final_image[i,j] = 1-layers[d,i,j]\n",
    "                break\n",
    "\n",
    "plt.imshow(final_image)"
   ]
  }
 ],
 "metadata": {
  "kernelspec": {
   "display_name": "Python 3",
   "language": "python",
   "name": "python3"
  },
  "language_info": {
   "codemirror_mode": {
    "name": "ipython",
    "version": 3
   },
   "file_extension": ".py",
   "mimetype": "text/x-python",
   "name": "python",
   "nbconvert_exporter": "python",
   "pygments_lexer": "ipython3",
   "version": "3.7.4"
  }
 },
 "nbformat": 4,
 "nbformat_minor": 2
}
