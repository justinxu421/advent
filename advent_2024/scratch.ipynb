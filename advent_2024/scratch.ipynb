{
 "cells": [
  {
   "cell_type": "code",
   "execution_count": 1,
   "id": "80801180",
   "metadata": {},
   "outputs": [
    {
     "name": "stdout",
     "output_type": "stream",
     "text": [
      "Requirement already satisfied: advent-of-code-data[nb] in /Users/justinxu/.pyenv/versions/3.9.4/lib/python3.9/site-packages (1.1.1)\n",
      "\u001b[33m  WARNING: advent-of-code-data 1.1.1 does not provide the extra 'nb'\u001b[0m\n",
      "Requirement already satisfied: termcolor in /Users/justinxu/.pyenv/versions/3.9.4/lib/python3.9/site-packages (from advent-of-code-data[nb]) (1.1.0)\n",
      "Requirement already satisfied: beautifulsoup4 in /Users/justinxu/.pyenv/versions/3.9.4/lib/python3.9/site-packages (from advent-of-code-data[nb]) (4.10.0)\n",
      "Requirement already satisfied: pebble in /Users/justinxu/.pyenv/versions/3.9.4/lib/python3.9/site-packages (from advent-of-code-data[nb]) (4.6.3)\n",
      "Requirement already satisfied: tzlocal in /Users/justinxu/.pyenv/versions/3.9.4/lib/python3.9/site-packages (from advent-of-code-data[nb]) (4.1)\n",
      "Requirement already satisfied: python-dateutil in /Users/justinxu/.pyenv/versions/3.9.4/lib/python3.9/site-packages (from advent-of-code-data[nb]) (2.8.2)\n",
      "Requirement already satisfied: requests in /Users/justinxu/.pyenv/versions/3.9.4/lib/python3.9/site-packages (from advent-of-code-data[nb]) (2.26.0)\n",
      "Requirement already satisfied: soupsieve>1.2 in /Users/justinxu/.pyenv/versions/3.9.4/lib/python3.9/site-packages (from beautifulsoup4->advent-of-code-data[nb]) (2.3.1)\n",
      "Requirement already satisfied: pytz-deprecation-shim in /Users/justinxu/.pyenv/versions/3.9.4/lib/python3.9/site-packages (from tzlocal->advent-of-code-data[nb]) (0.1.0.post0)\n",
      "Requirement already satisfied: six>=1.5 in /Users/justinxu/.pyenv/versions/3.9.4/lib/python3.9/site-packages (from python-dateutil->advent-of-code-data[nb]) (1.16.0)\n",
      "Requirement already satisfied: charset-normalizer~=2.0.0; python_version >= \"3\" in /Users/justinxu/.pyenv/versions/3.9.4/lib/python3.9/site-packages (from requests->advent-of-code-data[nb]) (2.0.9)\n",
      "Requirement already satisfied: certifi>=2017.4.17 in /Users/justinxu/.pyenv/versions/3.9.4/lib/python3.9/site-packages (from requests->advent-of-code-data[nb]) (2021.10.8)\n",
      "Requirement already satisfied: idna<4,>=2.5; python_version >= \"3\" in /Users/justinxu/.pyenv/versions/3.9.4/lib/python3.9/site-packages (from requests->advent-of-code-data[nb]) (3.3)\n",
      "Requirement already satisfied: urllib3<1.27,>=1.21.1 in /Users/justinxu/.pyenv/versions/3.9.4/lib/python3.9/site-packages (from requests->advent-of-code-data[nb]) (1.26.7)\n",
      "Requirement already satisfied: tzdata; python_version >= \"3.6\" in /Users/justinxu/.pyenv/versions/3.9.4/lib/python3.9/site-packages (from pytz-deprecation-shim->tzlocal->advent-of-code-data[nb]) (2021.5)\n",
      "\u001b[33mWARNING: You are using pip version 20.2.3; however, version 24.3.1 is available.\n",
      "You should consider upgrading via the '/Users/justinxu/.pyenv/versions/3.9.4/bin/python3.9 -m pip install --upgrade pip' command.\u001b[0m\n"
     ]
    }
   ],
   "source": [
    "!pip install 'advent-of-code-data[nb]'"
   ]
  },
  {
   "cell_type": "code",
   "execution_count": 4,
   "id": "0805cefa",
   "metadata": {},
   "outputs": [],
   "source": [
    "import math\n",
    "from collections import Counter, defaultdict\n",
    "\n",
    "import numpy as np\n",
    "\n",
    "from utils import AbstractDaySubmitter\n",
    "\n",
    "\n",
    "class DaySubmitter(AbstractDaySubmitter):\n",
    "    def day(self):\n",
    "        return 11\n",
    "\n",
    "    def parse_file(self, file):\n",
    "        with open(file) as f:\n",
    "            a = list(map(int, f.read().strip().split()))\n",
    "            return a\n",
    "\n",
    "    def process_num(self, num):\n",
    "        if num == 0:\n",
    "            return [1]\n",
    "\n",
    "        num_str = str(num)\n",
    "        num_digits = len(num_str)\n",
    "        if num_digits % 2 == 0:\n",
    "            first = int(num_str[: num_digits // 2])\n",
    "            second = int(num_str[num_digits // 2 :])\n",
    "            return [first, second]\n",
    "        else:\n",
    "            return [2024 * num]\n",
    "\n",
    "    def log(self, num):\n",
    "        return math.log10(num) if num != 0 else None\n",
    "\n",
    "    def process_num_log(self, log_num):\n",
    "        if log_num == None:\n",
    "            return [0]\n",
    "\n",
    "        if int(log_num) % 2 == 1:\n",
    "            num_str = str(round(10 ** log_num))\n",
    "            half_digits = int(log_num // 2) + 1\n",
    "            first = int(num_str[:half_digits])\n",
    "            second = int(num_str[half_digits:])\n",
    "            return [self.log(first), self.log(second)]\n",
    "        else:\n",
    "            return [math.log10(2024) + log_num]\n",
    "\n",
    "    def blink(self, nums):\n",
    "        new_nums = []\n",
    "\n",
    "        for num in nums:\n",
    "            new_nums.extend(self.process_num_log(num))\n",
    "            # new_nums.extend(self.process_num(num))\n",
    "        return new_nums\n",
    "\n",
    "    def pa(self, rows):\n",
    "        new_rows = [self.log(num) for num in rows]\n",
    "        for _ in range(25):\n",
    "            new_rows = self.blink(new_rows)\n",
    "        return len(new_rows)\n",
    "\n",
    "    def pb(self, rows):\n",
    "        new_rows = [self.log(num) for num in rows]\n",
    "        num_rows_arr = [len(new_rows)]\n",
    "        for i in range(35):\n",
    "            old_length = len(new_rows)\n",
    "            new_rows = self.blink(new_rows)\n",
    "            new_length = len(new_rows)\n",
    "            num_rows_arr.append(new_length)\n",
    "            print(i, old_length, new_length, new_length / old_length)\n",
    "        return num_rows_arr\n",
    "        num_rows = len(new_rows)\n",
    "        for _ in range(35):\n",
    "            num_rows *= 1.52\n",
    "        # return len(new_rows)\n",
    "        return num_rows"
   ]
  },
  {
   "cell_type": "code",
   "execution_count": 5,
   "id": "91d67443",
   "metadata": {},
   "outputs": [
    {
     "name": "stdout",
     "output_type": "stream",
     "text": [
      "0 8 11 1.375\n",
      "1 11 13 1.1818181818181819\n",
      "2 13 21 1.6153846153846154\n",
      "3 21 34 1.619047619047619\n",
      "4 34 46 1.3529411764705883\n",
      "5 46 77 1.673913043478261\n",
      "6 77 120 1.5584415584415585\n",
      "7 120 165 1.375\n",
      "8 165 245 1.4848484848484849\n",
      "9 245 387 1.579591836734694\n",
      "10 387 603 1.558139534883721\n",
      "11 603 850 1.4096185737976783\n",
      "12 850 1282 1.5082352941176471\n",
      "13 1282 2054 1.6021840873634945\n",
      "14 2054 3056 1.4878286270691334\n",
      "15 3056 4589 1.5016361256544504\n",
      "16 4589 6954 1.515362824144694\n",
      "17 6954 10594 1.5234397469082543\n",
      "18 10594 16131 1.5226543326411177\n",
      "19 16131 24290 1.5057962928522721\n",
      "20 24290 37366 1.538328530259366\n",
      "21 37366 56520 1.5126050420168067\n",
      "22 56520 84807 1.5004777070063695\n",
      "23 84807 130318 1.5366420224745598\n",
      "24 130318 198075 1.5199358492303443\n",
      "25 198075 299861 1.5138760570490977\n",
      "26 299861 454853 1.516879487495873\n",
      "27 454853 690060 1.5171055264008373\n",
      "28 690060 1054475 1.5280917601367996\n",
      "29 1054475 1595049 1.5126475260200574\n",
      "30 1595049 2419607 1.5169483821500154\n",
      "31 2419607 3690238 1.5251394131361002\n",
      "32 3690238 5585071 1.5134717598160334\n",
      "33 5585071 8494413 1.520914058209824\n",
      "34 8494413 12909962 1.519818026272092\n"
     ]
    }
   ],
   "source": [
    "submitter = DaySubmitter()\n",
    "a = submitter.parse_file(\"input11.txt\")\n",
    "num_rows_arr = submitter.pb(a)"
   ]
  },
  {
   "cell_type": "code",
   "execution_count": 26,
   "id": "72063a98",
   "metadata": {},
   "outputs": [
    {
     "data": {
      "text/plain": [
       "367936052792539.1"
      ]
     },
     "execution_count": 26,
     "metadata": {},
     "output_type": "execute_result"
    }
   ],
   "source": [
    "19589747 * 1.52 ** 40"
   ]
  },
  {
   "cell_type": "code",
   "execution_count": 23,
   "id": "b332e53f",
   "metadata": {},
   "outputs": [],
   "source": [
    "ratios = []\n",
    "for index in range(10, 35):\n",
    "    ratios.append(num_rows_arr[index] / num_rows_arr[index-1])"
   ]
  },
  {
   "cell_type": "code",
   "execution_count": 25,
   "id": "a61f6527",
   "metadata": {},
   "outputs": [
    {
     "data": {
      "text/plain": [
       "1.5195020159027697"
      ]
     },
     "execution_count": 25,
     "metadata": {},
     "output_type": "execute_result"
    }
   ],
   "source": [
    "np.mean(ratios)"
   ]
  },
  {
   "cell_type": "code",
   "execution_count": 18,
   "id": "44fcdba3",
   "metadata": {},
   "outputs": [
    {
     "name": "stdout",
     "output_type": "stream",
     "text": [
      "7.205882352941177\n",
      "8.41304347826087\n",
      "7.8311688311688314\n",
      "7.083333333333333\n",
      "7.7696969696969695\n",
      "8.383673469387755\n",
      "7.896640826873385\n",
      "7.610281923714759\n",
      "8.181176470588236\n",
      "8.263650546021841\n",
      "7.853456669912366\n",
      "7.9482984293193715\n",
      "8.142514709086948\n",
      "8.12769628990509\n",
      "8.005191617896923\n",
      "8.078730394891823\n",
      "8.154590366405928\n",
      "8.024969223358132\n",
      "8.047646850672328\n",
      "8.136828327850296\n",
      "8.091552970426187\n",
      "8.052752745172283\n",
      "8.069095347511013\n",
      "8.113034320978427\n",
      "8.0936020056227\n",
      "8.055585006756917\n"
     ]
    }
   ],
   "source": [
    "for index in range(9, 35):\n",
    "    print(num_rows_arr[index] / num_rows_arr[index-5])"
   ]
  }
 ],
 "metadata": {
  "kernelspec": {
   "display_name": "Python 3 (ipykernel)",
   "language": "python",
   "name": "python3"
  },
  "language_info": {
   "codemirror_mode": {
    "name": "ipython",
    "version": 3
   },
   "file_extension": ".py",
   "mimetype": "text/x-python",
   "name": "python",
   "nbconvert_exporter": "python",
   "pygments_lexer": "ipython3",
   "version": "3.9.4"
  }
 },
 "nbformat": 4,
 "nbformat_minor": 5
}
