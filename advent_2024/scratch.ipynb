{
 "cells": [
  {
   "cell_type": "code",
   "execution_count": 1,
   "id": "80801180",
   "metadata": {},
   "outputs": [
    {
     "name": "stdout",
     "output_type": "stream",
     "text": [
      "Requirement already satisfied: advent-of-code-data[nb] in /Users/justinxu/.pyenv/versions/3.9.4/lib/python3.9/site-packages (1.1.1)\n",
      "\u001b[33m  WARNING: advent-of-code-data 1.1.1 does not provide the extra 'nb'\u001b[0m\n",
      "Requirement already satisfied: termcolor in /Users/justinxu/.pyenv/versions/3.9.4/lib/python3.9/site-packages (from advent-of-code-data[nb]) (1.1.0)\n",
      "Requirement already satisfied: beautifulsoup4 in /Users/justinxu/.pyenv/versions/3.9.4/lib/python3.9/site-packages (from advent-of-code-data[nb]) (4.10.0)\n",
      "Requirement already satisfied: pebble in /Users/justinxu/.pyenv/versions/3.9.4/lib/python3.9/site-packages (from advent-of-code-data[nb]) (4.6.3)\n",
      "Requirement already satisfied: tzlocal in /Users/justinxu/.pyenv/versions/3.9.4/lib/python3.9/site-packages (from advent-of-code-data[nb]) (4.1)\n",
      "Requirement already satisfied: python-dateutil in /Users/justinxu/.pyenv/versions/3.9.4/lib/python3.9/site-packages (from advent-of-code-data[nb]) (2.8.2)\n",
      "Requirement already satisfied: requests in /Users/justinxu/.pyenv/versions/3.9.4/lib/python3.9/site-packages (from advent-of-code-data[nb]) (2.26.0)\n",
      "Requirement already satisfied: soupsieve>1.2 in /Users/justinxu/.pyenv/versions/3.9.4/lib/python3.9/site-packages (from beautifulsoup4->advent-of-code-data[nb]) (2.3.1)\n",
      "Requirement already satisfied: pytz-deprecation-shim in /Users/justinxu/.pyenv/versions/3.9.4/lib/python3.9/site-packages (from tzlocal->advent-of-code-data[nb]) (0.1.0.post0)\n",
      "Requirement already satisfied: six>=1.5 in /Users/justinxu/.pyenv/versions/3.9.4/lib/python3.9/site-packages (from python-dateutil->advent-of-code-data[nb]) (1.16.0)\n",
      "Requirement already satisfied: charset-normalizer~=2.0.0; python_version >= \"3\" in /Users/justinxu/.pyenv/versions/3.9.4/lib/python3.9/site-packages (from requests->advent-of-code-data[nb]) (2.0.9)\n",
      "Requirement already satisfied: certifi>=2017.4.17 in /Users/justinxu/.pyenv/versions/3.9.4/lib/python3.9/site-packages (from requests->advent-of-code-data[nb]) (2021.10.8)\n",
      "Requirement already satisfied: idna<4,>=2.5; python_version >= \"3\" in /Users/justinxu/.pyenv/versions/3.9.4/lib/python3.9/site-packages (from requests->advent-of-code-data[nb]) (3.3)\n",
      "Requirement already satisfied: urllib3<1.27,>=1.21.1 in /Users/justinxu/.pyenv/versions/3.9.4/lib/python3.9/site-packages (from requests->advent-of-code-data[nb]) (1.26.7)\n",
      "Requirement already satisfied: tzdata; python_version >= \"3.6\" in /Users/justinxu/.pyenv/versions/3.9.4/lib/python3.9/site-packages (from pytz-deprecation-shim->tzlocal->advent-of-code-data[nb]) (2021.5)\n",
      "\u001b[33mWARNING: You are using pip version 20.2.3; however, version 24.3.1 is available.\n",
      "You should consider upgrading via the '/Users/justinxu/.pyenv/versions/3.9.4/bin/python3.9 -m pip install --upgrade pip' command.\u001b[0m\n"
     ]
    }
   ],
   "source": [
    "!pip install 'advent-of-code-data[nb]'"
   ]
  },
  {
   "cell_type": "code",
   "execution_count": 4,
   "id": "9e574440",
   "metadata": {},
   "outputs": [],
   "source": [
    "string = 'xmul(2,4)%&mul[3,7]!@^do_not_mul(5,5)+mul(32,64]then(mul(11,8)mul(8,5))'\n"
   ]
  },
  {
   "cell_type": "code",
   "execution_count": 15,
   "id": "dcdbcac5",
   "metadata": {},
   "outputs": [],
   "source": [
    "import re\n",
    "pattern = r\"mul\\([0-9]+,[0-9]+\\)\"\n",
    "matches = re.findall(pattern, string)"
   ]
  },
  {
   "cell_type": "code",
   "execution_count": 29,
   "id": "8604cf5c",
   "metadata": {},
   "outputs": [],
   "source": [
    "pattern = r\"mul\\(\\d+,\\d+\\)\"\n",
    "matches = re.findall(pattern, string)"
   ]
  },
  {
   "cell_type": "code",
   "execution_count": 41,
   "id": "87d1613b",
   "metadata": {},
   "outputs": [
    {
     "name": "stdout",
     "output_type": "stream",
     "text": [
      "mul(2,4)\n",
      "mul(5,5)\n",
      "mul(11,8)\n",
      "mul(8,5)\n"
     ]
    }
   ],
   "source": [
    "matches = [x.span() for x in re.finditer(pattern, string)]\n",
    "for a, b in matches:\n",
    "    print(string[a:b])"
   ]
  },
  {
   "cell_type": "code",
   "execution_count": 31,
   "id": "cc36e989",
   "metadata": {},
   "outputs": [
    {
     "data": {
      "text/plain": [
       "['2', '4']"
      ]
     },
     "execution_count": 31,
     "metadata": {},
     "output_type": "execute_result"
    }
   ],
   "source": [
    "match = matches[0]\n",
    "match.strip('mul(').strip(')').split(',')"
   ]
  },
  {
   "cell_type": "code",
   "execution_count": 42,
   "id": "0275c2ab",
   "metadata": {},
   "outputs": [],
   "source": [
    "pattern = r\"mul\\(\\d+,\\d+\\)\"\n",
    "pattern_do = r\"do()\"\n",
    "pattern_dont = r\"don't()\""
   ]
  },
  {
   "cell_type": "code",
   "execution_count": 39,
   "id": "6e868f0a",
   "metadata": {},
   "outputs": [
    {
     "name": "stdout",
     "output_type": "stream",
     "text": [
      "1\n",
      "28\n",
      "48\n",
      "64\n"
     ]
    }
   ],
   "source": [
    "matches = re.findall(pattern, string)\n",
    "for match in matches:\n",
    "    idx = string.find(match)\n",
    "    print(idx)"
   ]
  },
  {
   "cell_type": "code",
   "execution_count": 47,
   "id": "caad48d8",
   "metadata": {},
   "outputs": [
    {
     "data": {
      "text/plain": [
       "[20]"
      ]
     },
     "execution_count": 47,
     "metadata": {},
     "output_type": "execute_result"
    }
   ],
   "source": [
    "string = \"xmul(2,4)&mul[3,7]!^don't()_mul(5,5)+mul(32,64](mul(11,8)undo()?mul(8,5))\"\n",
    "[x.start() for x in re.finditer(pattern_dont, string)]"
   ]
  },
  {
   "cell_type": "code",
   "execution_count": 48,
   "id": "0805cefa",
   "metadata": {},
   "outputs": [
    {
     "data": {
      "text/plain": [
       "['mul(2,4)', 'mul(5,5)', 'mul(11,8)', 'mul(8,5)']"
      ]
     },
     "execution_count": 48,
     "metadata": {},
     "output_type": "execute_result"
    }
   ],
   "source": [
    "[x.group() for x in re.finditer(pattern, string)]"
   ]
  }
 ],
 "metadata": {
  "kernelspec": {
   "display_name": "Python 3 (ipykernel)",
   "language": "python",
   "name": "python3"
  },
  "language_info": {
   "codemirror_mode": {
    "name": "ipython",
    "version": 3
   },
   "file_extension": ".py",
   "mimetype": "text/x-python",
   "name": "python",
   "nbconvert_exporter": "python",
   "pygments_lexer": "ipython3",
   "version": "3.9.4"
  }
 },
 "nbformat": 4,
 "nbformat_minor": 5
}
